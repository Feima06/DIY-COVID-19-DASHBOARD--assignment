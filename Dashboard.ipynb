{
 "cells": [
  {
   "cell_type": "code",
   "execution_count": 1,
   "metadata": {},
   "outputs": [],
   "source": [
    "import ipywidgets as wdg\n",
    "import pandas as pd\n",
    "import numpy as np\n",
    "import matplotlib.pyplot as plt\n",
    "import json\n",
    "from uk_covid19 import Cov19API"
   ]
  },
  {
   "cell_type": "code",
   "execution_count": 2,
   "metadata": {},
   "outputs": [],
   "source": [
    "%matplotlib inline\n",
    "# make figures larger\n",
    "plt.rcParams['figure.dpi'] = 100"
   ]
  },
  {
   "cell_type": "code",
   "execution_count": 3,
   "metadata": {},
   "outputs": [],
   "source": [
    "# Load JSON files and store the raw data in some variable. Edit as appropriate\n",
    "try:\n",
    "    global jsondata\n",
    "    with open('data.json') as f:\n",
    "        jsondata = json.load(f)\n",
    "except:\n",
    "    print(\"file not found!!\")\n",
    "    "
   ]
  },
  {
   "cell_type": "code",
   "execution_count": 4,
   "metadata": {},
   "outputs": [],
   "source": [
    "def wrangle_data(rawdata):\n",
    "    df=pd.DataFrame.from_dict(jsondata['data'])\n",
    "    df.dropna(inplace=True)\n",
    "    df['date']= pd.to_datetime(df['date'])\n",
    "    df.index=df['date']\n",
    "    return df\n",
    "\n",
    "# putting the wrangling code into a function allows you to call it again after refreshing the data through \n",
    "# the API. You should call the function directly on the JSON data when the dashboard starts, by including \n",
    "# the call in the cell as below:\n",
    "df=wrangle_data(jsondata) # df is the dataframe for plotting"
   ]
  },
  {
   "cell_type": "code",
   "execution_count": 5,
   "metadata": {},
   "outputs": [],
   "source": [
    "# Place your API access code in this function. Do not call this function directly; it will be called by \n",
    "# the button callback. \n",
    "def access_api():\n",
    "    filters = [\n",
    "    'areaType=overview'\n",
    "    ]\n",
    "    structure = {\n",
    "    \"date\": \"date\",\n",
    "    \"cases\": \"newCasesByPublishDate\",\n",
    "    \"hospital\": \"newAdmissions\",\n",
    "    \"deaths\": \"cumDeaths28DaysByDeathDateRate\"    \n",
    "    }\n",
    "    api = Cov19API(filters=filters, structure=structure)\n",
    "    read_api_data=api.get_json()\n",
    "    return read_api_data"
   ]
  },
  {
   "cell_type": "markdown",
   "metadata": {},
   "source": [
    "# Refreshing Api Data"
   ]
  },
  {
   "cell_type": "markdown",
   "metadata": {},
   "source": [
    "if data is not avalible or become old please click on refresh button! "
   ]
  },
  {
   "cell_type": "code",
   "execution_count": 6,
   "metadata": {},
   "outputs": [
    {
     "data": {
      "application/vnd.jupyter.widget-view+json": {
       "model_id": "b13b41678d654b9f99b22beecc780bd6",
       "version_major": 2,
       "version_minor": 0
      },
      "text/plain": [
       "Button(button_style='success', description='Refresh', icon='download', style=ButtonStyle(), tooltip='Keep calm…"
      ]
     },
     "metadata": {},
     "output_type": "display_data"
    }
   ],
   "source": [
    "# Printout from this function will be lost in Voila unless captured in an\n",
    "# output widget - therefore, we give feedback to the user by changing the \n",
    "# appearance of the button\n",
    "def api_button_callback(button):\n",
    "    \"\"\" Button callback - it must take the button as its parameter (unused in this case).\n",
    "    Accesses API, wrangles data, updates global variable df used for plotting. \"\"\"\n",
    "    # Get fresh data from the API. If you have time, include some error handling\n",
    "    # around this call.\n",
    "    try:\n",
    "        apidata=access_api()\n",
    "        # wrangle the data and overwrite the dataframe for plotting\n",
    "        global df\n",
    "        df=wrangle_data(apidata)\n",
    "        # the graph won't refresh until the user interacts with the widget.\n",
    "        # this function simulates the interaction, see Graph and Analysis below.\n",
    "        # you can omit this step in the first instance\n",
    "        refresh_graph()\n",
    "        # after all is done, you can switch the icon on the button to a \"check\" sign\n",
    "        # and optionally disable the button - it won't be needed again. You can use icons\n",
    "        # \"unlink\" or \"times\" and change the button text to \"Unavailable\" in case the \n",
    "        # api call fails.\n",
    "        apibutton.icon=\"check\"\n",
    "        apibutton.disabled=True\n",
    "    except Exception as e:\n",
    "        print(e)\n",
    "        apibutton.description='Unavailable'\n",
    "        apibutton.button_style='danger'\n",
    "        apibutton.icon='fa-chain-broken'\n",
    "        \n",
    "    \n",
    "apibutton=wdg.Button(\n",
    "    description='Refresh', # you may want to change this...\n",
    "    disabled=False,\n",
    "    button_style='success', # 'success', 'info', 'warning', 'danger' or ''\n",
    "    tooltip=\"Keep calm and carry on\",\n",
    "    # FontAwesome names without the `fa-` prefix - try \"download\"\n",
    "    icon='fa-download'\n",
    ")\n",
    "\n",
    "# remember to register your button callback function with the button\n",
    "apibutton.on_click(api_button_callback) # the name of your function inside these brackets\n",
    "\n",
    "display(apibutton)\n",
    "\n",
    "# run all cells before clicking on this button"
   ]
  },
  {
   "cell_type": "markdown",
   "metadata": {},
   "source": [
    "# Visualizing graphs"
   ]
  },
  {
   "cell_type": "markdown",
   "metadata": {},
   "source": [
    "select <b>cases/deaths</b> from first drop down<br>\n",
    "select data by <b>month</b> from second drop down<br>\n",
    "In the second drop down all means data of all months(year)"
   ]
  },
  {
   "cell_type": "code",
   "execution_count": 8,
   "metadata": {},
   "outputs": [
    {
     "data": {
      "application/vnd.jupyter.widget-view+json": {
       "model_id": "072c8809ad7642e9b7c33a03726d9dd3",
       "version_major": 2,
       "version_minor": 0
      },
      "text/plain": [
       "Dropdown(description='cases/deaths ', options=('cases', 'deaths'), value='cases')"
      ]
     },
     "metadata": {},
     "output_type": "display_data"
    },
    {
     "data": {
      "application/vnd.jupyter.widget-view+json": {
       "model_id": "8b8397478d124826b231ae414f884ba6",
       "version_major": 2,
       "version_minor": 0
      },
      "text/plain": [
       "Dropdown(description='Month', options=('all', '11', '10', '9', '8', '7', '6', '5', '4', '3'), value='all')"
      ]
     },
     "metadata": {},
     "output_type": "display_data"
    },
    {
     "data": {
      "application/vnd.jupyter.widget-view+json": {
       "model_id": "0d227787184c412b95cf1ac33a1ae56a",
       "version_major": 2,
       "version_minor": 0
      },
      "text/plain": [
       "Output()"
      ]
     },
     "metadata": {},
     "output_type": "display_data"
    }
   ],
   "source": [
    "def plot_random_walk(walk):\n",
    "    df[walk].plot()\n",
    "    \n",
    "whichwalk=wdg.Dropdown(\n",
    "    options=['cases', 'deaths'],\n",
    "    value='cases',\n",
    "    description='cases/deaths ',\n",
    "    disabled=False,\n",
    ")\n",
    "\n",
    "def refresh_graph():\n",
    "    \"\"\" We change the value of the widget in order to force a redraw of the graph;\n",
    "    this is useful when the data have been updated. This is a bit of a gimmick; it\n",
    "    needs to be customised for one of your widgets. \"\"\"\n",
    "    current=whichwalk.value\n",
    "    if current==whichwalk.options[0]:\n",
    "        other=whichwalk.options[1]\n",
    "    else:\n",
    "        other=whichwalk.options[0]\n",
    "    whichwalk.value=other # forces the redraw\n",
    "    whichwalk.value=current # now we can change it back\n",
    "\n",
    "    \n",
    "# graph=wdg.interactive_output(plot_random_walk, {'walk': whichwalk})\n",
    "    \n",
    "# display(whichwalk, graph)\n",
    "\n",
    "# graph with selected date\n",
    "\n",
    "def plot_random_walk_date(walk,date):\n",
    "    if date=='all':\n",
    "        df[walk].plot()\n",
    "    else:\n",
    "        date_df=df['2020-'+update_date()]\n",
    "        date_df[walk].plot()\n",
    "\n",
    "def update_date():\n",
    "    return date_dropDowm.value\n",
    "# date drop down\n",
    "option_dates=[]\n",
    "\n",
    "option_dates=['all']+df.index.month.unique().astype('str').tolist()\n",
    "# option_dates.append('all')\n",
    "date_dropDowm=wdg.Dropdown(\n",
    "    options=option_dates,\n",
    "    value=option_dates[0],\n",
    "    description='Month',\n",
    "    disabled=False,\n",
    ")\n",
    "\n",
    "graph=wdg.interactive_output(plot_random_walk_date, {'walk': whichwalk,'date':date_dropDowm})\n",
    "    \n",
    "display(whichwalk,date_dropDowm, graph)"
   ]
  },
  {
   "cell_type": "markdown",
   "metadata": {},
   "source": [
    "**Author and Copyright Notice** <br> \n",
    "credit: *Feima Ndoeka* <br>\n",
    "data source: *Based on UK Government [data](https://coronavirus.data.gov.uk/) published by [Public Health England](https://www.gov.uk/government/organisations/public-health-england).*"
   ]
  }
 ],
 "metadata": {
  "kernelspec": {
   "display_name": "Python 3",
   "language": "python",
   "name": "python3"
  },
  "language_info": {
   "codemirror_mode": {
    "name": "ipython",
    "version": 3
   },
   "file_extension": ".py",
   "mimetype": "text/x-python",
   "name": "python",
   "nbconvert_exporter": "python",
   "pygments_lexer": "ipython3",
   "version": "3.8.5"
  }
 },
 "nbformat": 4,
 "nbformat_minor": 4
}
